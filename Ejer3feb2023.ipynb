{
  "nbformat": 4,
  "nbformat_minor": 0,
  "metadata": {
    "colab": {
      "provenance": []
    },
    "kernelspec": {
      "name": "python3",
      "display_name": "Python 3"
    },
    "language_info": {
      "name": "python"
    }
  },
  "cells": [
    {
      "cell_type": "code",
      "execution_count": null,
      "metadata": {
        "colab": {
          "base_uri": "https://localhost:8080/"
        },
        "id": "MxCDtCDlW0kd",
        "outputId": "58a20210-828c-4b13-9754-44514219ae0a"
      },
      "outputs": [
        {
          "output_type": "stream",
          "name": "stdout",
          "text": [
            "Digite el total de estudiantes del grupo: 100\n",
            "\n",
            " Digite el total de mujeres del grupo de estudiantes: 30\n",
            "\n",
            " Total hombres del grupo de estudiantes: 70\n",
            "\n",
            " Porcentaje Mujeres de un grupo de 100 es: 30.00%\n",
            "\n",
            " Porcentaje Hombres de un grupo de 100 es: 70.00%\n"
          ]
        }
      ],
      "source": [
        "# Ejercicio 3. TALLER 20 FEB 2023. Un maestro desea saber qué porcentaje de hombres \n",
        "# y que porcentaje de mujeres hay en un grupo de estudiantes.\n",
        "# Variable acumula total alumnos\n",
        "tot_alumnos=int(input(\"Digite el total de estudiantes del grupo: \"))\n",
        "# Variable captura total mujeres\n",
        "tot_mujer=int(input(\"\\n Digite el total de mujeres del grupo de estudiantes: \"))\n",
        "# Variable captura total hombres\n",
        "tot_hombre=int(tot_alumnos-tot_mujer)\n",
        "print(\"\\n Total hombres del grupo de estudiantes: {}\".format(tot_hombre))\n",
        "# tot_hombre=int(input(\"\\n Digite el total de hombres del grupo de estudiantes: \"))\n",
        "# Variable para calculo porcentaje mujeres\n",
        "porcentaje_mujer=float(tot_mujer*100/tot_alumnos)\n",
        "# Variable para calculo porcentaje hombres\n",
        "porcentaje_hombre=float(tot_hombre*100/tot_alumnos)\n",
        "print(\"\\n Porcentaje Mujeres de un grupo de {} es: {:,.2f}%\".format(tot_alumnos, porcentaje_mujer))\n",
        "print(\"\\n Porcentaje Hombres de un grupo de {} es: {:,.2f}%\".format(tot_alumnos, porcentaje_hombre))"
      ]
    }
  ]
}