{
  "nbformat": 4,
  "nbformat_minor": 0,
  "metadata": {
    "colab": {
      "provenance": []
    },
    "kernelspec": {
      "name": "python3",
      "display_name": "Python 3"
    },
    "language_info": {
      "name": "python"
    }
  },
  "cells": [
    {
      "cell_type": "code",
      "execution_count": null,
      "metadata": {
        "id": "bT6ru0uXhnV1"
      },
      "outputs": [],
      "source": [
        "print (\"TALLER 22 FEB 2023. FUNCIONAMIENTO FOR\")"
      ]
    },
    {
      "cell_type": "markdown",
      "source": [
        "1. Crear un bucle que cuente todos los números pares hasta \n",
        "el 100 ciclo for\n"
      ],
      "metadata": {
        "id": "dOwrqhRzh4zz"
      }
    },
    {
      "cell_type": "code",
      "source": [
        "for numpar in range(0,102,2):\n",
        "  print (numpar)"
      ],
      "metadata": {
        "colab": {
          "base_uri": "https://localhost:8080/"
        },
        "id": "tDKpwHEMiE_v",
        "outputId": "7b229fb0-ce10-4f33-8849-b4b80fb82d8d"
      },
      "execution_count": null,
      "outputs": [
        {
          "output_type": "stream",
          "name": "stdout",
          "text": [
            "0\n",
            "2\n",
            "4\n",
            "6\n",
            "8\n",
            "10\n",
            "12\n",
            "14\n",
            "16\n",
            "18\n",
            "20\n",
            "22\n",
            "24\n",
            "26\n",
            "28\n",
            "30\n",
            "32\n",
            "34\n",
            "36\n",
            "38\n",
            "40\n",
            "42\n",
            "44\n",
            "46\n",
            "48\n",
            "50\n",
            "52\n",
            "54\n",
            "56\n",
            "58\n",
            "60\n",
            "62\n",
            "64\n",
            "66\n",
            "68\n",
            "70\n",
            "72\n",
            "74\n",
            "76\n",
            "78\n",
            "80\n",
            "82\n",
            "84\n",
            "86\n",
            "88\n",
            "90\n",
            "92\n",
            "94\n",
            "96\n",
            "98\n",
            "100\n"
          ]
        }
      ]
    },
    {
      "cell_type": "markdown",
      "source": [],
      "metadata": {
        "id": "jUtcoraTjEUu"
      }
    },
    {
      "cell_type": "markdown",
      "source": [
        "2. Haz una tabla de multiplicar utilizando el ciclo for.\n"
      ],
      "metadata": {
        "id": "fSIwzjgeaPV0"
      }
    },
    {
      "cell_type": "code",
      "source": [
        "print(\"**TABLA DE MULTIPLICAR**\")\n",
        "factor1 = int(input(\"Digite un numero entero: \")) \n",
        "#factor2 = int(0)\n",
        "for factor2 in range(0,11):\n",
        "  producto = factor1 * factor2\n",
        "  print((factor1),\"*\",(factor2), \"=\",producto)\n"
      ],
      "metadata": {
        "colab": {
          "base_uri": "https://localhost:8080/"
        },
        "id": "mpvY1t_taf2-",
        "outputId": "a3d1aba6-c82e-440c-e152-f00ffd19fd1a"
      },
      "execution_count": null,
      "outputs": [
        {
          "output_type": "stream",
          "name": "stdout",
          "text": [
            "**TABLA DE MULTIPLICAR**\n",
            "Digite un numero entero: 12\n",
            "12 * 0 = 0\n",
            "12 * 1 = 12\n",
            "12 * 2 = 24\n",
            "12 * 3 = 36\n",
            "12 * 4 = 48\n",
            "12 * 5 = 60\n",
            "12 * 6 = 72\n",
            "12 * 7 = 84\n",
            "12 * 8 = 96\n",
            "12 * 9 = 108\n",
            "12 * 10 = 120\n"
          ]
        }
      ]
    },
    {
      "cell_type": "markdown",
      "source": [
        "3. Escribir un programa que pregunte al usuario su edad y \n",
        "muestre por pantalla todos los años que ha cumplido \n",
        "(desde 1 hasta su edad). ciclo for"
      ],
      "metadata": {
        "id": "kvpta3KLoCJm"
      }
    },
    {
      "cell_type": "code",
      "source": [
        "edad = int(input(\"Digite su edad: \"))\n",
        "for cumplidos in range(1,(edad+1)):\n",
        "  print(\"**\\n LISTA AÑOS CUMPLIDOS **\")\n",
        "  print((cumplidos))"
      ],
      "metadata": {
        "colab": {
          "base_uri": "https://localhost:8080/"
        },
        "id": "swlFYn4DoPwi",
        "outputId": "63290567-20c9-4e63-f4c3-8f546174fd94"
      },
      "execution_count": null,
      "outputs": [
        {
          "output_type": "stream",
          "name": "stdout",
          "text": [
            "Digite su edad: 15\n",
            "**\n",
            " LISTA AÑOS CUMPLIDOS **\n",
            "1\n",
            "**\n",
            " LISTA AÑOS CUMPLIDOS **\n",
            "2\n",
            "**\n",
            " LISTA AÑOS CUMPLIDOS **\n",
            "3\n",
            "**\n",
            " LISTA AÑOS CUMPLIDOS **\n",
            "4\n",
            "**\n",
            " LISTA AÑOS CUMPLIDOS **\n",
            "5\n",
            "**\n",
            " LISTA AÑOS CUMPLIDOS **\n",
            "6\n",
            "**\n",
            " LISTA AÑOS CUMPLIDOS **\n",
            "7\n",
            "**\n",
            " LISTA AÑOS CUMPLIDOS **\n",
            "8\n",
            "**\n",
            " LISTA AÑOS CUMPLIDOS **\n",
            "9\n",
            "**\n",
            " LISTA AÑOS CUMPLIDOS **\n",
            "10\n",
            "**\n",
            " LISTA AÑOS CUMPLIDOS **\n",
            "11\n",
            "**\n",
            " LISTA AÑOS CUMPLIDOS **\n",
            "12\n",
            "**\n",
            " LISTA AÑOS CUMPLIDOS **\n",
            "13\n",
            "**\n",
            " LISTA AÑOS CUMPLIDOS **\n",
            "14\n",
            "**\n",
            " LISTA AÑOS CUMPLIDOS **\n",
            "15\n"
          ]
        }
      ]
    },
    {
      "cell_type": "markdown",
      "source": [
        "4. Escribir un programa que pida al usuario un número entero \n",
        "positivo y muestre por pantalla todos los números \n",
        "impares desde 1 hasta ese número separados por comas.\n"
      ],
      "metadata": {
        "id": "3hJab2s7qPjp"
      }
    },
    {
      "cell_type": "code",
      "source": [
        "numero = int(input(\"Digite un numero entero positivo: \"))\n",
        "for impar in range(1,(numero+1),2):\n",
        "  print(\"\\n NUMEROS IMPARES HASTA: \", (numero))\n",
        "  print((impar), \",\")"
      ],
      "metadata": {
        "colab": {
          "base_uri": "https://localhost:8080/"
        },
        "id": "p-7t3jTSqV-o",
        "outputId": "5d3d079f-b963-4986-8769-3be61c0e1a93"
      },
      "execution_count": null,
      "outputs": [
        {
          "output_type": "stream",
          "name": "stdout",
          "text": [
            "Digite un numero entero positivo: 17\n",
            "\n",
            " NUMEROS IMPARES HASTA:  17\n",
            "1 ,\n",
            "\n",
            " NUMEROS IMPARES HASTA:  17\n",
            "3 ,\n",
            "\n",
            " NUMEROS IMPARES HASTA:  17\n",
            "5 ,\n",
            "\n",
            " NUMEROS IMPARES HASTA:  17\n",
            "7 ,\n",
            "\n",
            " NUMEROS IMPARES HASTA:  17\n",
            "9 ,\n",
            "\n",
            " NUMEROS IMPARES HASTA:  17\n",
            "11 ,\n",
            "\n",
            " NUMEROS IMPARES HASTA:  17\n",
            "13 ,\n",
            "\n",
            " NUMEROS IMPARES HASTA:  17\n",
            "15 ,\n",
            "\n",
            " NUMEROS IMPARES HASTA:  17\n",
            "17 ,\n"
          ]
        }
      ]
    },
    {
      "cell_type": "markdown",
      "source": [
        "5. Encuentra la suma de todos los números pares del 1 al \n",
        "100 ciclo fo"
      ],
      "metadata": {
        "id": "-nzZTQp4tnRQ"
      }
    },
    {
      "cell_type": "code",
      "source": [
        "for pares in range(0,101,2):\n",
        "  #print(\"\\n) ** NUMEROS PARES HASTA 100 **\")\n",
        "  print(pares)"
      ],
      "metadata": {
        "colab": {
          "base_uri": "https://localhost:8080/"
        },
        "id": "G9uWzbuKttex",
        "outputId": "5c44ef9d-24e9-4f90-a739-87f76e33900c"
      },
      "execution_count": null,
      "outputs": [
        {
          "output_type": "stream",
          "name": "stdout",
          "text": [
            "0\n",
            "2\n",
            "4\n",
            "6\n",
            "8\n",
            "10\n",
            "12\n",
            "14\n",
            "16\n",
            "18\n",
            "20\n",
            "22\n",
            "24\n",
            "26\n",
            "28\n",
            "30\n",
            "32\n",
            "34\n",
            "36\n",
            "38\n",
            "40\n",
            "42\n",
            "44\n",
            "46\n",
            "48\n",
            "50\n",
            "52\n",
            "54\n",
            "56\n",
            "58\n",
            "60\n",
            "62\n",
            "64\n",
            "66\n",
            "68\n",
            "70\n",
            "72\n",
            "74\n",
            "76\n",
            "78\n",
            "80\n",
            "82\n",
            "84\n",
            "86\n",
            "88\n",
            "90\n",
            "92\n",
            "94\n",
            "96\n",
            "98\n",
            "100\n"
          ]
        }
      ]
    }
  ]
}