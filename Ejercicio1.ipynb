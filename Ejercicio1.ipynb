{
  "nbformat": 4,
  "nbformat_minor": 0,
  "metadata": {
    "colab": {
      "provenance": []
    },
    "kernelspec": {
      "name": "python3",
      "display_name": "Python 3"
    },
    "language_info": {
      "name": "python"
    }
  },
  "cells": [
    {
      "cell_type": "code",
      "execution_count": null,
      "metadata": {
        "colab": {
          "base_uri": "https://localhost:8080/"
        },
        "id": "sERk3FBA_7aj",
        "outputId": "f384429c-1c9b-4c4d-a8bb-89209a466dc2"
      },
      "outputs": [
        {
          "output_type": "stream",
          "name": "stdout",
          "text": [
            "EJERCICIO 1 TALLER 20 FEB 2023\n",
            "Digite Salario base: 200000\n",
            "Digite valor venta1: 10000\n",
            "Digite valor venta2: 5000\n",
            "Digite valor venta3: 50000\n",
            "VALOR COMISIONES MES\n",
            "\n",
            " Comision venta1= $1,000\n",
            "\n",
            " Comision venta2= $500\n",
            "\n",
            " Comision venta3= $5,000\n",
            "\n",
            " SUELDO TOTAL = $206,500\n"
          ]
        }
      ],
      "source": [
        "print(\"EJERCICIO 1 TALLER 20 FEB 2023\")\n",
        "# variable para sueldo basico\n",
        "sueldo_base= int(input(\"Digite Salario base: \"))\n",
        "# Variables valor ventas realizadas en el mes\n",
        "vta1=float(input (\"Digite valor venta1: \"))\n",
        "vta2=float(input (\"Digite valor venta2: \"))\n",
        "vta3=float(input (\"Digite valor venta3: \"))\n",
        "# Variable calculo comision(10%) sobre ventas\n",
        "print(\"VALOR COMISIONES MES\")\n",
        "comision_vta1= vta1*0.10\n",
        "comision_vta2= vta2*0.10\n",
        "comision_vta3= vta3*0.10\n",
        "print(\"\\n Comision venta1= ${:,.0f}\".format(comision_vta1))\n",
        "print(\"\\n Comision venta2= ${:,.0f}\".format(comision_vta2))\n",
        "print(\"\\n Comision venta3= ${:,.0f}\".format(comision_vta3))\n",
        "# Variable para sueldo total \n",
        "sueldo_total=sueldo_base+comision_vta1+comision_vta2+comision_vta3\n",
        "print(\"\\n SUELDO TOTAL = ${:,.0f}\" .format(sueldo_total))"
      ]
    }
  ]
}